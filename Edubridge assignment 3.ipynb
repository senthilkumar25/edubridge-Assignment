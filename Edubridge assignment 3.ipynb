{
 "cells": [
  {
   "cell_type": "markdown",
   "metadata": {
    "id": "f0b37470-0aed-4a25-9c83-b7c419905b51"
   },
   "source": [
    "###  Assignment-3"
   ]
  },
  {
   "cell_type": "markdown",
   "metadata": {
    "id": "fef4acf7-6f16-4e7b-ab52-4198650eb19f"
   },
   "source": [
    "```\n",
    "Q1.Calculate the Salary using Python Programming\n",
    "\n",
    "Read the question carefully and follow the input and output format. \n",
    "\n",
    "Karen got salary for this month and she spends 20% of her salary for food, 10% of her salary for entertainment and 10% of her salary for travel.If she takes care of other shifts she will get 4% of the salary per day. Given her salary and the number of shifts she handled.Calculate how much she can save in her pocket after spending all these?\n",
    "\n",
    "Input and Output Format : First line of input consists of an integer, salary. Next line correspond to the number of shifts. Output consist of an integer, \n",
    "which is saving.\n",
    " 1. Print \"Salary too large\" when salary is greater than 10000. \n",
    " 2. Print \"Shifts too small\" when the shift is less than 0. \n",
    " 3. Print \"Salary too small\" when the salary is less than 0.\n",
    "Include a function named calculateSal(salary,shifts)  to calcuate salary and print saving."
   ]
  },
  {
   "cell_type": "code",
   "execution_count": 3,
   "metadata": {},
   "outputs": [
    {
     "name": "stdout",
     "output_type": "stream",
     "text": [
      "Enter the Salary  : 100\n",
      "enter the no. Shifts  : 100\n"
     ]
    },
    {
     "data": {
      "text/plain": [
       "460"
      ]
     },
     "execution_count": 3,
     "metadata": {},
     "output_type": "execute_result"
    }
   ],
   "source": [
    "def calculate_salary(salary,shifts): \n",
    "    if salary>10000:\n",
    "        print(\"Salary too large\")\n",
    "    elif salary<0:\n",
    "        print(\"Salary too small\")\n",
    "    elif shifts<0:\n",
    "        print(\"Shifts too small\")\n",
    "    else:\n",
    "        totalsalary=salary+(salary*0.04*shifts)\n",
    "        foodexpense=salary*0.2\n",
    "        entertainmentsexpense=salary*0.1\n",
    "        travelexpense=salary*0.1\n",
    "        totalexpense=foodexpense+travelexpense+entertainmentsexpense\n",
    "        totalsavings=totalsalary-totalexpense\n",
    "        return int(totalsavings)\n",
    "salary=int(input(\"Enter the Salary  : \")) \n",
    "shifts=int(input(\"enter the no. Shifts  : \"))\n",
    "calculate_salary(salary,shifts) "
   ]
  },
  {
   "cell_type": "markdown",
   "metadata": {
    "id": "1968378f-56d5-47f6-8791-913eb738aa3d"
   },
   "source": [
    "```\n",
    "Q2.write python code to read n as integer,from STDIN. For all non-negative integers i<n ,print i**2.\n",
    "\n",
    "Example\n",
    "The list of non-negative integers that are less than n=3 is[0,1,2]. Print the square of each number on a separate line.\n",
    "0\n",
    "1\n",
    "4\n",
    "\n",
    "Input Format\n",
    "The first and only line contains the integer,n .\n",
    "Output Format\n",
    "Print n lines, one corresponding to each i .\n",
    "\n",
    "\n",
    "Sample Input \n",
    "5\n",
    "Sample Output \n",
    "0\n",
    "1\n",
    "4\n",
    "9\n",
    "16\n",
    "```"
   ]
  },
  {
   "cell_type": "code",
   "execution_count": 5,
   "metadata": {
    "id": "489c854a-cbd2-4cfd-88ea-d5a804055c2c"
   },
   "outputs": [
    {
     "name": "stdout",
     "output_type": "stream",
     "text": [
      "6\n",
      "0\n",
      "1\n",
      "4\n",
      "9\n",
      "16\n",
      "25\n"
     ]
    }
   ],
   "source": [
    "n=int(input())\n",
    "if n>=0:\n",
    "    for i in range(n):\n",
    "        print(i**2 ,end=\"\\n\")"
   ]
  },
  {
   "cell_type": "markdown",
   "metadata": {
    "id": "f50ecb1a-ed81-4254-ae20-57506e45c53f"
   },
   "source": [
    "```\n",
    "Q3.An extra day is added to the calendar almost every four years as February 29, and the day is called a leap day. It corrects the calendar for the fact that our planet takes approximately 365.25 days to orbit the sun. A leap year contains a leap day.\n",
    "\n",
    "In the Gregorian calendar, three conditions are used to identify leap years:\n",
    "The year can be evenly divided by 4, is a leap year, unless:\n",
    "The year can be evenly divided by 100, it is NOT a leap year, unless:\n",
    "The year is also evenly divisible by 400. Then it is a leap year.\n",
    "This means that in the Gregorian calendar, the years 2000 and 2400 are leap years, while 1800, 1900, 2100, 2200, 2300 and 2500 are NOT leap years. Source\n",
    "\n",
    "Task\n",
    "Given a year, determine whether it is a leap year. If it is a leap year, return the Boolean True, otherwise return False.\n",
    "\n",
    "Note that the code stub provided reads from STDIN and passes arguments to the is_leap function. It is only necessary to complete the is_leap function.\n",
    "\n",
    "Input Format\n",
    "Read , the year as integer to test.\n",
    "Output Format\n",
    "The function must return a Boolean value (True/False)\n",
    "\n",
    "Sample Input \n",
    "1990\n",
    "Sample Output \n",
    "False\n",
    "\n",
    "```"
   ]
  },
  {
   "cell_type": "code",
   "execution_count": 4,
   "metadata": {
    "id": "1273f4a8-1681-40fc-8afc-75fce2c886d3"
   },
   "outputs": [
    {
     "name": "stdout",
     "output_type": "stream",
     "text": [
      "Year : 2021\n"
     ]
    },
    {
     "data": {
      "text/plain": [
       "False"
      ]
     },
     "execution_count": 4,
     "metadata": {},
     "output_type": "execute_result"
    }
   ],
   "source": [
    "def leap(x):\n",
    "    if x%4==0 or (x%100==0 and x%400==0):\n",
    "        return True\n",
    "    else:\n",
    "        return False\n",
    "year=int(input(\"Year : \"))\n",
    "leap(year)\n",
    "    "
   ]
  }
 ],
 "metadata": {
  "colab": {
   "include_colab_link": true,
   "name": "WEEK3-Assignment.ipynb",
   "provenance": []
  },
  "kernelspec": {
   "display_name": "Python 3",
   "language": "python",
   "name": "python3"
  },
  "language_info": {
   "codemirror_mode": {
    "name": "ipython",
    "version": 3
   },
   "file_extension": ".py",
   "mimetype": "text/x-python",
   "name": "python",
   "nbconvert_exporter": "python",
   "pygments_lexer": "ipython3",
   "version": "3.7.4"
  }
 },
 "nbformat": 4,
 "nbformat_minor": 5
}
